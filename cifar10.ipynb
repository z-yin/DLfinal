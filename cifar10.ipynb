{
 "cells": [
  {
   "cell_type": "markdown",
   "metadata": {
    "colab_type": "text",
    "id": "dtbwzsoLcHJj"
   },
   "source": [
    "# This notebook will experiment on cifar-10 dataset with VGG-11 achitecture. It will generate a bunch of pickle files which are necessary variables for the notebook \"plot_figures.ipynb\""
   ]
  },
  {
   "cell_type": "code",
   "execution_count": 54,
   "metadata": {
    "colab": {},
    "colab_type": "code",
    "id": "WUuj_LH4cHJk"
   },
   "outputs": [],
   "source": [
    "import matplotlib.pyplot as plt\n",
    "%matplotlib inline\n",
    "import matplotlib.style as style\n",
    "style.use('seaborn')\n",
    "\n",
    "import warnings\n",
    "warnings.filterwarnings('ignore')"
   ]
  },
  {
   "cell_type": "markdown",
   "metadata": {
    "colab_type": "text",
    "id": "G0QBo-YTcHJn"
   },
   "source": [
    "## Constants (parameters) initialization"
   ]
  },
  {
   "cell_type": "code",
   "execution_count": 55,
   "metadata": {
    "colab": {},
    "colab_type": "code",
    "id": "w0PrLa4IcHJo"
   },
   "outputs": [],
   "source": [
    "device_id = 0\n",
    "num_workers = 4\n",
    "\n",
    "batch_size = 4\n",
    "# default_learning_rate = 0.1"
   ]
  },
  {
   "cell_type": "markdown",
   "metadata": {
    "colab_type": "text",
    "id": "9Nd3Xs_ocHJq"
   },
   "source": [
    "## CIFAR-10 data load and preproc"
   ]
  },
  {
   "cell_type": "code",
   "execution_count": 56,
   "metadata": {
    "colab": {},
    "colab_type": "code",
    "id": "2K000dOIcHJr"
   },
   "outputs": [],
   "source": [
    "from torch.utils.data import DataLoader, Dataset, SubsetRandomSampler\n",
    "import torch.nn.functional as F\n",
    "import PIL.Image as Image\n",
    "from torch import nn\n",
    "import numpy as np\n",
    "import torch.optim as optim\n",
    "import pandas as pd\n",
    "import torch\n",
    "from torch.utils.data.sampler import Sampler\n",
    "from torchvision import transforms, utils\n",
    "import torchvision.models as models\n",
    "import torchvision.datasets as datasets\n",
    "import os\n",
    "import sys\n",
    "import random\n",
    "from tqdm import tqdm as tqdm\n",
    "from IPython import display"
   ]
  },
  {
   "cell_type": "code",
   "execution_count": 57,
   "metadata": {},
   "outputs": [],
   "source": [
    "module_path = os.path.dirname(os.getcwd())\n",
    "sys.path.append(module_path)\n",
    "\n",
    "home_path = module_path\n",
    "figures_path = os.path.join(home_path, 'reports', 'figures')\n",
    "models_path = os.path.join(home_path, 'reports', 'models')"
   ]
  },
  {
   "cell_type": "markdown",
   "metadata": {
    "colab_type": "text",
    "id": "Z3HWs5ihcHJt"
   },
   "source": [
    "Make sure you are using the right device."
   ]
  },
  {
   "cell_type": "code",
   "execution_count": 58,
   "metadata": {
    "colab": {
     "base_uri": "https://localhost:8080/",
     "height": 51
    },
    "colab_type": "code",
    "id": "eAw2DP8fcHJu",
    "outputId": "f444cf53-904e-43ff-deb0-e2d4e4033a13"
   },
   "outputs": [
    {
     "name": "stdout",
     "output_type": "stream",
     "text": [
      "cuda:0\n"
     ]
    }
   ],
   "source": [
    "device_id = device_id\n",
    "os.environ[\"CUDA_DEVICE_ORDER\"]=\"PCI_BUS_ID\"  \n",
    "os.environ[\"CUDA_VISIBLE_DEVICES\"]=str(device_id)\n",
    "\n",
    "device = torch.device(\"cuda:{}\".format(device_id) if torch.cuda.is_available() else \"cpu\")\n",
    "print(device)"
   ]
  },
  {
   "cell_type": "code",
   "execution_count": 59,
   "metadata": {
    "colab": {},
    "colab_type": "code",
    "id": "nc622VEUcHJy"
   },
   "outputs": [],
   "source": [
    "class PartialDataset(Dataset):\n",
    "    def __init__(self, dataset, n_items=10):\n",
    "        self.dataset = dataset\n",
    "        self.n_items = n_items\n",
    "        \n",
    "    def __getitem__(self, idx):\n",
    "        return self.dataset.__getitem__(idx)\n",
    "    \n",
    "    def __len__(self):\n",
    "        return min(self.n_items, len(self.dataset))"
   ]
  },
  {
   "cell_type": "code",
   "execution_count": 60,
   "metadata": {
    "colab": {
     "base_uri": "https://localhost:8080/",
     "height": 51
    },
    "colab_type": "code",
    "id": "irlvOHqNcHJ1",
    "outputId": "2178ee31-14f4-4353-ed81-7589b77a1f00",
    "scrolled": true
   },
   "outputs": [
    {
     "name": "stdout",
     "output_type": "stream",
     "text": [
      "Files already downloaded and verified\n",
      "Files already downloaded and verified\n"
     ]
    }
   ],
   "source": [
    "normalize = transforms.Normalize(mean=[0.5, 0.5, 0.5],\n",
    "                                 std=[0.5, 0.5, 0.5])\n",
    "train_transform = transforms.Compose([transforms.ToTensor(), normalize])\n",
    "val_transform = transforms.Compose([transforms.ToTensor(), normalize])\n",
    "\n",
    "dataset_train = datasets.CIFAR10(root='.', train=True, download=True, transform=train_transform)\n",
    "train_loader = DataLoader(dataset_train, batch_size=batch_size, shuffle=True, num_workers=num_workers)\n",
    "\n",
    "dataset_val = datasets.CIFAR10(root='.', train=False, download=True, transform=val_transform)\n",
    "val_loader = DataLoader(dataset_val, batch_size=batch_size, shuffle=True, num_workers=num_workers)"
   ]
  },
  {
   "cell_type": "code",
   "execution_count": 61,
   "metadata": {
    "colab": {
     "base_uri": "https://localhost:8080/",
     "height": 51
    },
    "colab_type": "code",
    "id": "irlvOHqNcHJ1",
    "outputId": "2178ee31-14f4-4353-ed81-7589b77a1f00"
   },
   "outputs": [],
   "source": [
    "dataset_train_part = PartialDataset(dataset_train, 5000)\n",
    "train_loader_part = DataLoader(dataset_train_part, batch_size=batch_size, shuffle=True, \n",
    "                               num_workers=num_workers)\n",
    "\n",
    "dataset_val_part = PartialDataset(dataset_val, 1000)\n",
    "val_loader_part = DataLoader(dataset_val_part, batch_size=batch_size, shuffle=True, \n",
    "                             num_workers=num_workers)\n",
    "\n",
    "classes = ('plane', 'car', 'bird', 'cat',\n",
    "           'deer', 'dog', 'frog', 'horse', 'ship', 'truck')"
   ]
  },
  {
   "cell_type": "markdown",
   "metadata": {
    "colab_type": "text",
    "id": "ADfeklC8cHJ5"
   },
   "source": [
    "Make sure that dataloader works as expected by observing one sample from it."
   ]
  },
  {
   "cell_type": "markdown",
   "metadata": {
    "colab_type": "text",
    "id": "4E3Tvtb2cHJ8"
   },
   "source": [
    "## Models implementation"
   ]
  },
  {
   "cell_type": "code",
   "execution_count": 63,
   "metadata": {
    "colab": {},
    "colab_type": "code",
    "id": "f-pd0jsCcHJ9"
   },
   "outputs": [],
   "source": [
    "def get_number_of_parameters(model):\n",
    "    parameters_n = 0\n",
    "    for parameter in model.parameters():\n",
    "        parameters_n += np.prod(parameter.shape).item()\n",
    "        \n",
    "    return parameters_n"
   ]
  },
  {
   "cell_type": "code",
   "execution_count": 64,
   "metadata": {
    "colab": {
     "base_uri": "https://localhost:8080/",
     "height": 34
    },
    "colab_type": "code",
    "id": "1iJz_Ya5cHJ_",
    "outputId": "820ab6e4-a6ec-42da-d09a-76c5264c3af5"
   },
   "outputs": [
    {
     "name": "stdout",
     "output_type": "stream",
     "text": [
      "9750922\n"
     ]
    }
   ],
   "source": [
    "class VGG_A(nn.Module):\n",
    "    def __init__(self, inp_ch=3, num_classes=10):\n",
    "        super().__init__()\n",
    "        \n",
    "        self.stage1 = nn.Sequential(\n",
    "            nn.Conv2d(in_channels=inp_ch, out_channels=64, kernel_size=3, padding=1),\n",
    "            #nn.BatchNorm2d(64),\n",
    "            nn.ReLU(),\n",
    "            nn.MaxPool2d(kernel_size=2, stride=2))\n",
    "        \n",
    "        self.stage2 = nn.Sequential(\n",
    "            nn.Conv2d(in_channels=64, out_channels=128, kernel_size=3, padding=1),\n",
    "            #nn.BatchNorm2d(128),\n",
    "            nn.ReLU(),\n",
    "            nn.MaxPool2d(kernel_size=2, stride=2))\n",
    "        \n",
    "        self.stage3 = nn.Sequential(\n",
    "            nn.Conv2d(in_channels=128, out_channels=256, kernel_size=3, padding=1),\n",
    "            #nn.BatchNorm2d(256),\n",
    "            nn.ReLU(),\n",
    "            nn.Conv2d(in_channels=256, out_channels=256, kernel_size=3, padding=1),\n",
    "            #nn.BatchNorm2d(256),\n",
    "            nn.ReLU(),\n",
    "            nn.MaxPool2d(kernel_size=2, stride=2))\n",
    "        \n",
    "        self.stage4 = nn.Sequential(\n",
    "            nn.Conv2d(in_channels=256, out_channels=512, kernel_size=3, padding=1),\n",
    "            #nn.BatchNorm2d(512),\n",
    "            nn.ReLU(),\n",
    "            nn.Conv2d(in_channels=512, out_channels=512, kernel_size=3, padding=1),\n",
    "            #nn.BatchNorm2d(512),\n",
    "            nn.ReLU(),\n",
    "            nn.MaxPool2d(kernel_size=2, stride=2))\n",
    "        \n",
    "        self.stage5 = nn.Sequential(\n",
    "            nn.Conv2d(in_channels=512, out_channels=512, kernel_size=3, padding=1),\n",
    "            #nn.BatchNorm2d(512),\n",
    "            nn.ReLU(),\n",
    "            nn.Conv2d(in_channels=512, out_channels=512, kernel_size=3, padding=1),\n",
    "            #nn.BatchNorm2d(512),\n",
    "            nn.ReLU(),\n",
    "            nn.MaxPool2d(kernel_size=2, stride=2))\n",
    "        \n",
    "        self.stage6 = nn.Sequential(\n",
    "            nn.Linear(512*1*1, 512),\n",
    "            #nn.BatchNorm1d(512),\n",
    "            nn.ReLU(),\n",
    "            nn.Linear(512, 512),\n",
    "            #nn.BatchNorm1d(512),\n",
    "            nn.ReLU(),\n",
    "            nn.Linear(512, num_classes))\n",
    "       \n",
    "\n",
    "    def forward(self, x):\n",
    "        x = self.stage1(x)\n",
    "        x = self.stage2(x)\n",
    "        x = self.stage3(x)\n",
    "        x = self.stage4(x)\n",
    "        x = self.stage5(x)\n",
    "        x = self.stage6(x.view(-1, 512*1*1))\n",
    "        return x\n",
    "    \n",
    "class VGG_A_Batch(nn.Module):\n",
    "    def __init__(self, inp_ch=3, num_classes=10):\n",
    "        super().__init__()\n",
    "        \n",
    "        self.stage1 = nn.Sequential(\n",
    "            nn.Conv2d(in_channels=inp_ch, out_channels=64, kernel_size=3, padding=1),\n",
    "            nn.BatchNorm2d(64),\n",
    "            nn.ReLU(),\n",
    "            nn.MaxPool2d(kernel_size=2, stride=2))\n",
    "        \n",
    "        self.stage2 = nn.Sequential(\n",
    "            nn.Conv2d(in_channels=64, out_channels=128, kernel_size=3, padding=1),\n",
    "            nn.BatchNorm2d(128),\n",
    "            nn.ReLU(),\n",
    "            nn.MaxPool2d(kernel_size=2, stride=2))\n",
    "        \n",
    "        self.stage3 = nn.Sequential(\n",
    "            nn.Conv2d(in_channels=128, out_channels=256, kernel_size=3, padding=1),\n",
    "            nn.BatchNorm2d(256),\n",
    "            nn.ReLU(),\n",
    "            nn.Conv2d(in_channels=256, out_channels=256, kernel_size=3, padding=1),\n",
    "            nn.BatchNorm2d(256),\n",
    "            nn.ReLU(),\n",
    "            nn.MaxPool2d(kernel_size=2, stride=2))\n",
    "        \n",
    "        self.stage4 = nn.Sequential(\n",
    "            nn.Conv2d(in_channels=256, out_channels=512, kernel_size=3, padding=1),\n",
    "            nn.BatchNorm2d(512),\n",
    "            nn.ReLU(),\n",
    "            nn.Conv2d(in_channels=512, out_channels=512, kernel_size=3, padding=1),\n",
    "            nn.BatchNorm2d(512),\n",
    "            nn.ReLU(),\n",
    "            nn.MaxPool2d(kernel_size=2, stride=2))\n",
    "        \n",
    "        self.stage5 = nn.Sequential(\n",
    "            nn.Conv2d(in_channels=512, out_channels=512, kernel_size=3, padding=1),\n",
    "            nn.BatchNorm2d(512),\n",
    "            nn.ReLU(),\n",
    "            nn.Conv2d(in_channels=512, out_channels=512, kernel_size=3, padding=1),\n",
    "            nn.BatchNorm2d(512),\n",
    "            nn.ReLU(),\n",
    "            nn.MaxPool2d(kernel_size=2, stride=2))\n",
    "        \n",
    "        self.stage6 = nn.Sequential(\n",
    "            nn.Linear(512*1*1, 512),\n",
    "            nn.BatchNorm1d(512),\n",
    "            nn.ReLU(),\n",
    "            nn.Linear(512, 512),\n",
    "            nn.BatchNorm1d(512),\n",
    "            nn.ReLU(),\n",
    "            nn.Linear(512, num_classes))\n",
    "       \n",
    "    def forward(self, x):\n",
    "        x = self.stage1(x)\n",
    "        x = self.stage2(x)\n",
    "        x = self.stage3(x)\n",
    "        x = self.stage4(x)\n",
    "        x = self.stage5(x)\n",
    "        x = self.stage6(x.view(-1, 512*1*1))\n",
    "        return x\n",
    "    \n",
    "    \n",
    "class VGG_A_Group(nn.Module):\n",
    "    def __init__(self, inp_ch=3, num_classes=10):\n",
    "        super().__init__()\n",
    "        \n",
    "        self.stage1 = nn.Sequential(\n",
    "            nn.Conv2d(in_channels=inp_ch, out_channels=64, kernel_size=3, padding=1),\n",
    "            nn.GroupNorm(4, 64),\n",
    "            nn.ReLU(),\n",
    "            nn.MaxPool2d(kernel_size=2, stride=2))\n",
    "        \n",
    "        self.stage2 = nn.Sequential(\n",
    "            nn.Conv2d(in_channels=64, out_channels=128, kernel_size=3, padding=1),\n",
    "            nn.GroupNorm(8, 128),\n",
    "            nn.ReLU(),\n",
    "            nn.MaxPool2d(kernel_size=2, stride=2))\n",
    "        \n",
    "        self.stage3 = nn.Sequential(\n",
    "            nn.Conv2d(in_channels=128, out_channels=256, kernel_size=3, padding=1),\n",
    "            nn.GroupNorm(16, 256),\n",
    "            nn.ReLU(),\n",
    "            nn.Conv2d(in_channels=256, out_channels=256, kernel_size=3, padding=1),\n",
    "            nn.GroupNorm(16, 256),\n",
    "            nn.ReLU(),\n",
    "            nn.MaxPool2d(kernel_size=2, stride=2))\n",
    "        \n",
    "        self.stage4 = nn.Sequential(\n",
    "            nn.Conv2d(in_channels=256, out_channels=512, kernel_size=3, padding=1),\n",
    "            nn.GroupNorm(32, 512),\n",
    "            nn.ReLU(),\n",
    "            nn.Conv2d(in_channels=512, out_channels=512, kernel_size=3, padding=1),\n",
    "            nn.GroupNorm(32, 512),\n",
    "            nn.ReLU(),\n",
    "            nn.MaxPool2d(kernel_size=2, stride=2))\n",
    "        \n",
    "        self.stage5 = nn.Sequential(\n",
    "            nn.Conv2d(in_channels=512, out_channels=512, kernel_size=3, padding=1),\n",
    "            nn.GroupNorm(32, 512),\n",
    "            nn.ReLU(),\n",
    "            nn.Conv2d(in_channels=512, out_channels=512, kernel_size=3, padding=1),\n",
    "            nn.GroupNorm(32, 512),\n",
    "            nn.ReLU(),\n",
    "            nn.MaxPool2d(kernel_size=2, stride=2))\n",
    "        \n",
    "        self.stage6 = nn.Sequential(\n",
    "            nn.Linear(512*1*1, 512),\n",
    "            nn.GroupNorm(32, 512),\n",
    "            nn.ReLU(),\n",
    "            nn.Linear(512, 512),\n",
    "            nn.GroupNorm(32, 512),\n",
    "            nn.ReLU(),\n",
    "            nn.Linear(512, num_classes))\n",
    "       \n",
    "\n",
    "    def forward(self, x):\n",
    "        x = self.stage1(x)\n",
    "        x = self.stage2(x)\n",
    "        x = self.stage3(x)\n",
    "        x = self.stage4(x)\n",
    "        x = self.stage5(x)\n",
    "        x = self.stage6(x.view(-1, 512*1*1))\n",
    "        return x\n",
    "\n",
    "    \n",
    "print(get_number_of_parameters(VGG_A()))"
   ]
  },
  {
   "cell_type": "markdown",
   "metadata": {
    "colab_type": "text",
    "id": "9Gu9RdS3cHKB"
   },
   "source": [
    "## Final preparations for training"
   ]
  },
  {
   "cell_type": "code",
   "execution_count": 65,
   "metadata": {
    "colab": {},
    "colab_type": "code",
    "id": "OkkQH7NScHKE"
   },
   "outputs": [],
   "source": [
    "def get_accuracy(model, dataloader, device='cpu'):\n",
    "    correct = 0\n",
    "    with torch.no_grad():\n",
    "        for x, y in dataloader:\n",
    "            x = x.to(device)  ## <---\n",
    "            y = y.to(device)  ## <---\n",
    "            prediction = model(x).argmax(dim=-1, keepdim=True)\n",
    "            correct += prediction.eq(y.view_as(prediction)).sum().item()\n",
    "    return correct / len(dataloader.dataset)"
   ]
  },
  {
   "cell_type": "code",
   "execution_count": 66,
   "metadata": {
    "colab": {},
    "colab_type": "code",
    "id": "vji0Vhi5cHKH"
   },
   "outputs": [],
   "source": [
    "def set_random_seeds(seed_value=0, device='cpu'):\n",
    "    np.random.seed(seed_value)\n",
    "    torch.manual_seed(seed_value)\n",
    "    random.seed(seed_value)\n",
    "    if device != 'cpu': \n",
    "        torch.cuda.manual_seed(seed_value)\n",
    "        torch.cuda.manual_seed_all(seed_value)\n",
    "        torch.backends.cudnn.deterministic = True\n",
    "        torch.backends.cudnn.benchmark = False"
   ]
  },
  {
   "cell_type": "code",
   "execution_count": 67,
   "metadata": {
    "colab": {},
    "colab_type": "code",
    "id": "4t8mFgcTcHKC"
   },
   "outputs": [],
   "source": [
    "def train(model, \n",
    "          optimizer, \n",
    "          criterion,  \n",
    "          train_loader, \n",
    "          val_loader, \n",
    "          scheduler=None, \n",
    "          epochs_n=100, \n",
    "          best_model_path=None,\n",
    "          stage_layer=4,\n",
    "          model_type='no'):\n",
    "    \n",
    "    model.to(device)\n",
    "    learning_curve = [np.nan] * epochs_n\n",
    "    train_accuracy_curve = [np.nan] * epochs_n\n",
    "    val_accuracy_curve = [np.nan] * epochs_n\n",
    "    max_val_accuracy = 0\n",
    "    max_val_accuracy_epoch = 0\n",
    "\n",
    "    batches_n = len(train_loader)\n",
    "    losses_list = []\n",
    "    grads = []\n",
    "    for epoch in tqdm(range(epochs_n), unit='epoch'):\n",
    "        if scheduler is not None:  \n",
    "            scheduler.step()       \n",
    "        model.train()\n",
    "        loss_list = []\n",
    "        grad = []\n",
    "        learning_curve[epoch] = 0\n",
    "        for data in train_loader:\n",
    "            \n",
    "            #print(data)\n",
    "            \n",
    "            x, y = data\n",
    "            x = x.to(device)\n",
    "            y = y.to(device)\n",
    "            optimizer.zero_grad()\n",
    "            prediction = model(x)\n",
    "            loss = criterion(prediction, y)\n",
    "            #print(loss.item())\n",
    "            loss_list.append(loss.item())\n",
    "            learning_curve[epoch] += loss.item()\n",
    "            loss.backward()\n",
    "            grad.append(model.stage6[stage_layer].weight.grad.clone())\n",
    "            optimizer.step()\n",
    "            \n",
    "        grads.append(grad)\n",
    "        losses_list.append(loss_list)\n",
    "        display.clear_output(wait=True)\n",
    "        f, axes = plt.subplots(1, 2, figsize=(15, 3))\n",
    "\n",
    "        learning_curve[epoch] /= batches_n\n",
    "        axes[0].plot(learning_curve)\n",
    "\n",
    "        model.eval()\n",
    "        train_accuracy_curve[epoch] = get_accuracy(model, train_loader, device)\n",
    "        val_accuracy_curve[epoch] = get_accuracy(model, val_loader, device)\n",
    "        \n",
    "        val_accuracy = val_accuracy_curve[epoch]\n",
    "        if val_accuracy > max_val_accuracy:\n",
    "            max_val_accuracy = val_accuracy\n",
    "            max_val_accuracy_epoch = epoch\n",
    "            if best_model_path:\n",
    "                torch.save(model.state_dict(), best_model_path)\n",
    "        \n",
    "        axes[1].set_title('Train {:.4f}, val {:.4f}, max val {:.4f} at {}'.format(\n",
    "            train_accuracy_curve[epoch], val_accuracy, max_val_accuracy, max_val_accuracy_epoch))\n",
    "        axes[1].plot(train_accuracy_curve)\n",
    "        axes[1].plot(val_accuracy_curve)\n",
    "\n",
    "        plt.tight_layout()\n",
    "        plt.show()\n",
    "    plt.savefig(os.path.join('figs', 'batch_'+str(batch_size)+'_'+model_type+'_acc.png'), dpi=500, quality=100)\n",
    "    return losses_list, grads"
   ]
  },
  {
   "cell_type": "markdown",
   "metadata": {
    "colab_type": "text",
    "id": "2-RjqF-ucHKK"
   },
   "source": [
    "## Training"
   ]
  },
  {
   "cell_type": "code",
   "execution_count": 68,
   "metadata": {
    "colab": {},
    "colab_type": "code",
    "id": "J01xuCc3i0m1"
   },
   "outputs": [],
   "source": [
    "epo = 30\n",
    "lr_1 = 0.0001\n",
    "lr_2 = 0.0005\n",
    "lr_3 = 0.00002"
   ]
  },
  {
   "cell_type": "markdown",
   "metadata": {},
   "source": [
    "## No norm"
   ]
  },
  {
   "cell_type": "markdown",
   "metadata": {},
   "source": [
    "lr_1"
   ]
  },
  {
   "cell_type": "code",
   "execution_count": null,
   "metadata": {
    "colab": {
     "base_uri": "https://localhost:8080/",
     "height": 259
    },
    "colab_type": "code",
    "id": "XKwXboWbgtv-",
    "outputId": "388102ea-4730-4eef-9e63-7bd2aac1597a"
   },
   "outputs": [
    {
     "data": {
      "image/png": "[encoded data removed]",
      "text/plain": [
       "<Figure size 1080x216 with 2 Axes>"
      ]
     },
     "metadata": {},
     "output_type": "display_data"
    },
    {
     "name": "stderr",
     "output_type": "stream",
     "text": [
      "\n",
      " 50%|█████     | 15/30 [11:19<11:19, 45.27s/epoch]\u001b[A"
     ]
    }
   ],
   "source": [
    "os.path.join(os.getcwd(), 'best_vgg_1.pt') #change dump name here\n",
    "set_random_seeds(seed_value=1984, device=device)\n",
    "model = VGG_A()\n",
    "optimizer = torch.optim.Adam(model.parameters(), lr = lr_1)\n",
    "criterion = nn.CrossEntropyLoss()\n",
    "\n",
    "lg_no_01 = train(model, \n",
    "      optimizer, \n",
    "      criterion, \n",
    "      train_loader_part,\n",
    "      val_loader_part,\n",
    "      epochs_n=epo,\n",
    "      model_type='no')"
   ]
  },
  {
   "cell_type": "markdown",
   "metadata": {},
   "source": [
    "lr_2"
   ]
  },
  {
   "cell_type": "code",
   "execution_count": 17,
   "metadata": {
    "colab": {
     "base_uri": "https://localhost:8080/",
     "height": 259
    },
    "colab_type": "code",
    "id": "XKwXboWbgtv-",
    "outputId": "388102ea-4730-4eef-9e63-7bd2aac1597a"
   },
   "outputs": [
    {
     "data": {
      "image/png": "[encoded data removed]",
      "text/plain": [
       "<Figure size 1080x216 with 2 Axes>"
      ]
     },
     "metadata": {
      "needs_background": "light"
     },
     "output_type": "display_data"
    },
    {
     "name": "stderr",
     "output_type": "stream",
     "text": [
      "\n",
      "100%|██████████| 30/30 [22:31<00:00, 44.99s/epoch]\u001b[A"
     ]
    }
   ],
   "source": [
    "# os.path.join(os.getcwd(), 'best_vgg_1.pt') #change dump name here\n",
    "set_random_seeds(seed_value=1984, device=device)\n",
    "model = VGG_A()\n",
    "optimizer = torch.optim.Adam(model.parameters(), lr = lr_2)\n",
    "criterion = nn.CrossEntropyLoss()\n",
    "\n",
    "lg_no_02 = train(model, \n",
    "      optimizer, \n",
    "      criterion, \n",
    "      train_loader_part,\n",
    "      val_loader_part,\n",
    "      epochs_n=epo,\n",
    "      model_type='no')"
   ]
  },
  {
   "cell_type": "markdown",
   "metadata": {},
   "source": [
    "lr_3"
   ]
  },
  {
   "cell_type": "code",
   "execution_count": 18,
   "metadata": {
    "colab": {
     "base_uri": "https://localhost:8080/",
     "height": 259
    },
    "colab_type": "code",
    "id": "XKwXboWbgtv-",
    "outputId": "388102ea-4730-4eef-9e63-7bd2aac1597a"
   },
   "outputs": [
    {
     "data": {
      "image/png": "[encoded data removed]",
      "text/plain": [
       "<Figure size 1080x216 with 2 Axes>"
      ]
     },
     "metadata": {
      "needs_background": "light"
     },
     "output_type": "display_data"
    },
    {
     "name": "stderr",
     "output_type": "stream",
     "text": [
      "\n",
      "100%|██████████| 30/30 [22:33<00:00, 45.09s/epoch]\u001b[A"
     ]
    }
   ],
   "source": [
    "# os.path.join(os.getcwd(), 'best_vgg_1.pt') #change dump name here\n",
    "set_random_seeds(seed_value=1984, device=device)\n",
    "model = VGG_A()\n",
    "optimizer = torch.optim.Adam(model.parameters(), lr = lr_3)\n",
    "criterion = nn.CrossEntropyLoss()\n",
    "\n",
    "lg_no_03 = train(model, \n",
    "      optimizer, \n",
    "      criterion, \n",
    "      train_loader_part,\n",
    "      val_loader_part,\n",
    "      epochs_n=epo,\n",
    "      model_type='no')"
   ]
  },
  {
   "cell_type": "markdown",
   "metadata": {},
   "source": [
    "## Batch norm"
   ]
  },
  {
   "cell_type": "markdown",
   "metadata": {},
   "source": [
    "lr_1"
   ]
  },
  {
   "cell_type": "code",
   "execution_count": null,
   "metadata": {
    "colab": {
     "base_uri": "https://localhost:8080/",
     "height": 259
    },
    "colab_type": "code",
    "id": "XKwXboWbgtv-",
    "outputId": "388102ea-4730-4eef-9e63-7bd2aac1597a"
   },
   "outputs": [],
   "source": [
    "set_random_seeds(seed_value=1984, device=device)\n",
    "model = VGG_A_Batch()\n",
    "optimizer = torch.optim.Adam(model.parameters(), lr = lr_1)\n",
    "criterion = nn.CrossEntropyLoss()\n",
    "\n",
    "lg_batch_01 = train(model, \n",
    "      optimizer, \n",
    "      criterion, \n",
    "      train_loader_part,\n",
    "      val_loader_part,\n",
    "      epochs_n=epo,\n",
    "      stage_layer=6,\n",
    "      model_type='bn')"
   ]
  },
  {
   "cell_type": "markdown",
   "metadata": {},
   "source": [
    "lr_2"
   ]
  },
  {
   "cell_type": "code",
   "execution_count": null,
   "metadata": {
    "colab": {
     "base_uri": "https://localhost:8080/",
     "height": 259
    },
    "colab_type": "code",
    "id": "XKwXboWbgtv-",
    "outputId": "388102ea-4730-4eef-9e63-7bd2aac1597a"
   },
   "outputs": [],
   "source": [
    "set_random_seeds(seed_value=1984, device=device)\n",
    "model = VGG_A_Batch()\n",
    "optimizer = torch.optim.Adam(model.parameters(), lr = lr_2)\n",
    "criterion = nn.CrossEntropyLoss()\n",
    "\n",
    "lg_batch_02 = train(model, \n",
    "      optimizer, \n",
    "      criterion, \n",
    "      train_loader_part,\n",
    "      val_loader_part,\n",
    "      epochs_n=epo,\n",
    "      stage_layer=6,\n",
    "      model_type='bn')"
   ]
  },
  {
   "cell_type": "markdown",
   "metadata": {},
   "source": [
    "lr_3"
   ]
  },
  {
   "cell_type": "code",
   "execution_count": null,
   "metadata": {
    "colab": {
     "base_uri": "https://localhost:8080/",
     "height": 259
    },
    "colab_type": "code",
    "id": "XKwXboWbgtv-",
    "outputId": "388102ea-4730-4eef-9e63-7bd2aac1597a"
   },
   "outputs": [],
   "source": [
    "# set_random_seeds(seed_value=1984, device=device)\n",
    "model = VGG_A_Batch()\n",
    "optimizer = torch.optim.Adam(model.parameters(), lr = lr_3)\n",
    "criterion = nn.CrossEntropyLoss()\n",
    "\n",
    "lg_batch_03 = train(model, \n",
    "      optimizer, \n",
    "      criterion, \n",
    "      train_loader_part,\n",
    "      val_loader_part,\n",
    "      epochs_n=epo,\n",
    "      stage_layer=6,\n",
    "      model_type='bn')"
   ]
  },
  {
   "cell_type": "markdown",
   "metadata": {},
   "source": [
    "## Group norm"
   ]
  },
  {
   "cell_type": "markdown",
   "metadata": {},
   "source": [
    "lr_1"
   ]
  },
  {
   "cell_type": "code",
   "execution_count": null,
   "metadata": {
    "colab": {
     "base_uri": "https://localhost:8080/",
     "height": 259
    },
    "colab_type": "code",
    "id": "XKwXboWbgtv-",
    "outputId": "388102ea-4730-4eef-9e63-7bd2aac1597a",
    "scrolled": true
   },
   "outputs": [],
   "source": [
    "# set_random_seeds(seed_value=1984, device=device)\n",
    "model = VGG_A_Group()\n",
    "optimizer = torch.optim.Adam(model.parameters(), lr = lr_1)\n",
    "criterion = nn.CrossEntropyLoss()\n",
    "\n",
    "lg_group_01 = train(model, \n",
    "      optimizer, \n",
    "      criterion, \n",
    "      train_loader_part,\n",
    "      val_loader_part,\n",
    "      epochs_n=epo,\n",
    "      stage_layer=6,\n",
    "      model_type='gn')"
   ]
  },
  {
   "cell_type": "markdown",
   "metadata": {},
   "source": [
    "lr_2"
   ]
  },
  {
   "cell_type": "code",
   "execution_count": null,
   "metadata": {
    "colab": {
     "base_uri": "https://localhost:8080/",
     "height": 259
    },
    "colab_type": "code",
    "id": "XKwXboWbgtv-",
    "outputId": "388102ea-4730-4eef-9e63-7bd2aac1597a",
    "scrolled": true
   },
   "outputs": [],
   "source": [
    "# set_random_seeds(seed_value=1984, device=device)\n",
    "model = VGG_A_Group()\n",
    "optimizer = torch.optim.Adam(model.parameters(), lr = lr_2)\n",
    "criterion = nn.CrossEntropyLoss()\n",
    "\n",
    "lg_group_02 = train(model, \n",
    "      optimizer, \n",
    "      criterion, \n",
    "      train_loader_part,\n",
    "      val_loader_part,\n",
    "      epochs_n=epo,\n",
    "      stage_layer=6,\n",
    "      model_type='gn')"
   ]
  },
  {
   "cell_type": "markdown",
   "metadata": {},
   "source": [
    "lr_3"
   ]
  },
  {
   "cell_type": "code",
   "execution_count": null,
   "metadata": {
    "colab": {
     "base_uri": "https://localhost:8080/",
     "height": 259
    },
    "colab_type": "code",
    "id": "XKwXboWbgtv-",
    "outputId": "388102ea-4730-4eef-9e63-7bd2aac1597a",
    "scrolled": true
   },
   "outputs": [],
   "source": [
    "# set_random_seeds(seed_value=1984, device=device)\n",
    "model = VGG_A_Group()\n",
    "optimizer = torch.optim.Adam(model.parameters(), lr = lr_3)\n",
    "criterion = nn.CrossEntropyLoss()\n",
    "\n",
    "lg_group_03 = train(model, \n",
    "      optimizer, \n",
    "      criterion, \n",
    "      train_loader_part,\n",
    "      val_loader_part,\n",
    "      epochs_n=epo,\n",
    "      stage_layer=6,\n",
    "      model_type='gn')"
   ]
  },
  {
   "cell_type": "markdown",
   "metadata": {},
   "source": [
    "## Write loss to files"
   ]
  },
  {
   "cell_type": "code",
   "execution_count": 20,
   "metadata": {
    "scrolled": true
   },
   "outputs": [],
   "source": [
    "import pickle\n",
    "root = '128'\n",
    "\n",
    "# group norm\n",
    "with open(root+'gn_'+str(lr_1)+'_'+str(batch_size)+'.pickle', 'wb') as f:\n",
    "    tmp = (list(np.array(lg_group_01[0]).flatten()), list(np.array(lg_group_01[1]).flatten()))\n",
    "    pickle.dump(tmp, f, pickle.HIGHEST_PROTOCOL)\n",
    "    \n",
    "with open(root+'gn_'+str(lr_2)+'_'+str(batch_size)+'.pickle', 'wb') as f:\n",
    "    tmp = (list(np.array(lg_group_02[0]).flatten()), list(np.array(lg_group_02[1]).flatten()))\n",
    "    pickle.dump(tmp, f, pickle.HIGHEST_PROTOCOL)\n",
    "    \n",
    "with open(root+'gn_'+str(lr_3)+'_'+str(batch_size)+'.pickle', 'wb') as f:\n",
    "    tmp = (list(np.array(lg_group_03[0]).flatten()), list(np.array(lg_group_03[1]).flatten()))\n",
    "    pickle.dump(tmp, f, pickle.HIGHEST_PROTOCOL)\n",
    "    \n",
    "# batch norm\n",
    "with open(root+'bn_'+str(lr_1)+'_'+str(batch_size)+'.pickle', 'wb') as f:\n",
    "    tmp = (list(np.array(lg_batch_01[0]).flatten()), list(np.array(lg_batch_01[1]).flatten()))\n",
    "    pickle.dump(tmp, f, pickle.HIGHEST_PROTOCOL)\n",
    "    \n",
    "with open(root+'bn_'+str(lr_2)+'_'+str(batch_size)+'.pickle', 'wb') as f:\n",
    "    tmp = (list(np.array(lg_batch_02[0]).flatten()), list(np.array(lg_batch_02[1]).flatten()))\n",
    "    pickle.dump(tmp, f, pickle.HIGHEST_PROTOCOL)\n",
    "    \n",
    "with open(root+'bn_'+str(lr_3)+'_'+str(batch_size)+'.pickle', 'wb') as f:\n",
    "    tmp = (list(np.array(lg_batch_03[0]).flatten()), list(np.array(lg_batch_03[1]).flatten()))\n",
    "    pickle.dump(tmp, f, pickle.HIGHEST_PROTOCOL)\n",
    "    \n",
    "# no norm\n",
    "with open(root+'std_'+str(lr_1)+'_'+str(batch_size)+'.pickle', 'wb') as f:\n",
    "    tmp = (list(np.array(lg_no_01[0]).flatten()), list(np.array(lg_no_01[1]).flatten()))\n",
    "    pickle.dump(tmp, f, pickle.HIGHEST_PROTOCOL)\n",
    "    \n",
    "with open(root+'std_'+str(lr_2)+'_'+str(batch_size)+'.pickle', 'wb') as f:\n",
    "    tmp = (list(np.array(lg_no_02[0]).flatten()), list(np.array(lg_no_02[1]).flatten()))\n",
    "    pickle.dump(tmp, f, pickle.HIGHEST_PROTOCOL)\n",
    "    \n",
    "with open(root+'std_'+str(lr_3)+'_'+str(batch_size)+'.pickle', 'wb') as f:\n",
    "    tmp = (list(np.array(lg_no_03[0]).flatten()), list(np.array(lg_no_03[1]).flatten()))\n",
    "    pickle.dump(tmp, f, pickle.HIGHEST_PROTOCOL)"
   ]
  },
  {
   "cell_type": "markdown",
   "metadata": {},
   "source": [
    "# End"
   ]
  },
  {
   "cell_type": "code",
   "execution_count": null,
   "metadata": {},
   "outputs": [],
   "source": []
  }
 ],
 "metadata": {
  "accelerator": "GPU",
  "colab": {
   "collapsed_sections": [],
   "name": "Landscape_0_VGG_Batch.ipynb",
   "provenance": [],
   "version": "0.3.2"
  },
  "kernelspec": {
   "display_name": "Python 3",
   "language": "python",
   "name": "python3"
  },
  "language_info": {
   "codemirror_mode": {
    "name": "ipython",
    "version": 3
   },
   "file_extension": ".py",
   "mimetype": "text/x-python",
   "name": "python",
   "nbconvert_exporter": "python",
   "pygments_lexer": "ipython3",
   "version": "3.7.3"
  }
 },
 "nbformat": 4,
 "nbformat_minor": 2
}
